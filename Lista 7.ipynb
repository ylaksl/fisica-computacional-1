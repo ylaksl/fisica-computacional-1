{
 "cells": [
  {
   "cell_type": "markdown",
   "id": "817be859",
   "metadata": {},
   "source": [
    "# Lista 7 - Física Computacional\n",
    "Aluna: Ylana Karolina Santos Lopes"
   ]
  },
  {
   "cell_type": "code",
   "execution_count": 70,
   "id": "f924dc2b",
   "metadata": {},
   "outputs": [],
   "source": [
    "from numpy import array, zeros, linalg, copy, dot, arange, eye\n",
    "from banded import banded\n"
   ]
  },
  {
   "cell_type": "markdown",
   "id": "99d104ec",
   "metadata": {},
   "source": [
    "#### Problema 1: Circuito de resistores\n",
    "a) Realizando o sistema (não sei fazer as matrizes no jupyter) chegamos às equações: \n",
    "\n",
    "$$ 4V_{1} - V_{2} - V_{3} - V_{4} = V_{+}$$\n",
    "$$ -V_{1} + 3V_{2} - V_{4} = 0$$\n",
    "$$ -V_{1}  + 3V_{3} - V_{4} = V_{+}$$\n",
    "$$ -V_{1} + V_{2} - V_{3} - V_{4} = 0$$"
   ]
  },
  {
   "cell_type": "code",
   "execution_count": 71,
   "id": "c5d54152",
   "metadata": {},
   "outputs": [],
   "source": [
    "A = array([[4,-1,-1,-1],\n",
    "           [-1,3,0,-1],\n",
    "           [-1,0,3,-1],\n",
    "           [-1,-1,-1,4]],float)\n",
    "\n",
    "v_p = 5 \n",
    "\n",
    "v = array([v_p,0,v_p,0],float)\n",
    "N = len(v)\n",
    "x = zeros(N)\n"
   ]
  },
  {
   "cell_type": "code",
   "execution_count": 72,
   "id": "b2f865cd",
   "metadata": {},
   "outputs": [
    {
     "name": "stdout",
     "output_type": "stream",
     "text": [
      "[[ 4. -1. -1. -1.]\n",
      " [-1.  3.  0. -1.]\n",
      " [-1.  0.  3. -1.]\n",
      " [-1. -1. -1.  4.]]\n",
      "[[ 1.   -0.25 -0.25 -0.25]\n",
      " [ 0.    2.75 -0.25 -1.25]\n",
      " [ 0.   -0.25  2.75 -1.25]\n",
      " [ 0.   -1.25 -1.25  3.75]]\n",
      "[[ 1.         -0.25       -0.25       -0.25      ]\n",
      " [ 0.          1.         -0.09090909 -0.45454545]\n",
      " [ 0.          0.          2.72727273 -1.36363636]\n",
      " [ 0.          0.         -1.36363636  3.18181818]]\n",
      "[[ 1.         -0.25       -0.25       -0.25      ]\n",
      " [ 0.          1.         -0.09090909 -0.45454545]\n",
      " [ 0.          0.          1.         -0.5       ]\n",
      " [ 0.          0.          0.          2.5       ]]\n",
      "[[ 1.         -0.25       -0.25       -0.25      ]\n",
      " [ 0.          1.         -0.09090909 -0.45454545]\n",
      " [ 0.          0.          1.         -0.5       ]\n",
      " [ 0.          0.          0.          1.        ]]\n",
      "[1.25       0.45454545 2.33333333 2.        ]\n",
      "Solução: \n",
      "[3.         1.66666667 3.33333333 2.        ]\n"
     ]
    }
   ],
   "source": [
    "## b)\n",
    "for i in range(N):\n",
    "    print(A)\n",
    "    v[i] = v[i]/A[i,i]\n",
    "    A[i,:] = A[i,:]/A[i,i]\n",
    "    for j in range(i+1,N):\n",
    "        mult = -(A[j,i])\n",
    "        A[j,:] = A[j,:] + mult*A[i,:]\n",
    "        v[j] = v[j] + mult*v[i]\n",
    "print(A)\n",
    "print(v)\n",
    "\n",
    "# Fase da substituição retrocedida\n",
    "for i in range(N-1,-1,-1):\n",
    "    x[i] = v[i]\n",
    "    for j in range(i+1,N):\n",
    "        x[i] -= A[i,j]*x[j]  \n",
    "\n",
    "print(\"Solução: \")\n",
    "print(x)"
   ]
  },
  {
   "cell_type": "code",
   "execution_count": 73,
   "id": "4f3fe39c",
   "metadata": {},
   "outputs": [
    {
     "name": "stdout",
     "output_type": "stream",
     "text": [
      "[3.         1.66666667 3.33333333 2.        ]\n"
     ]
    }
   ],
   "source": [
    "## c) usando o linalg (reinicializando a matriz orginal) \n",
    "\n",
    "sol = linalg.solve(A, v)\n",
    "print(sol)\n"
   ]
  },
  {
   "cell_type": "markdown",
   "id": "c7a0697b",
   "metadata": {},
   "source": [
    "#### Problema 2"
   ]
  },
  {
   "cell_type": "code",
   "execution_count": 37,
   "id": "265edc17",
   "metadata": {},
   "outputs": [
    {
     "name": "stdout",
     "output_type": "stream",
     "text": [
      "Solução usando linalg.solve antes de alterar a matriz:  [ 2. -1. -2.  1.]\n",
      "Solução:  [ 2. -1. -2.  1.]\n"
     ]
    }
   ],
   "source": [
    "### a)\n",
    "A = array([[2, 1, 4, 1],\n",
    "           [3, 4, -1, -1],\n",
    "           [1, -4, 1, 5],\n",
    "           [2, -2, 1, 3]],float)\n",
    "\n",
    "\n",
    "v = array([-4,3,9,7],float)\n",
    "N = len(v)\n",
    "\n",
    "x = zeros(N)\n",
    "\n",
    "a=0\n",
    "b=0\n",
    "\n",
    "vet = zeros(N)\n",
    "\n",
    "sol = linalg.solve(A,v)\n",
    "print(\"Solução usando linalg.solve antes de alterar a matriz: \",sol)\n",
    "\n",
    "for i in range(N):\n",
    "    for k in range(i+1,N):\n",
    "        if abs(A[k,i]) > abs(A[i,i]):\n",
    "            vet = copy(A[k,:])\n",
    "            A[k,:]=A[i,:]\n",
    "            A[i,:]=vet\n",
    "            a = v[i]\n",
    "            v[i]=v[k]\n",
    "            v[k]=a\n",
    "    v[i] = v[i]/A[i,i]\n",
    "    A[i,:] = A[i,:]/A[i,i]\n",
    "    for j in range(i+1,N):\n",
    "        mult = -(A[j,i])\n",
    "        A[j,:] = A[j,:] + mult*A[i,:]\n",
    "        v[j] = v[j] + mult*v[i]\n",
    "\n",
    "for i in range(N-1,-1,-1):\n",
    "    x[i] = v[i]\n",
    "    for j in range(i+1,N):\n",
    "        x[i] -= A[i,j]*x[j] \n",
    "        \n",
    "\n",
    "print(\"Solução: \",x)"
   ]
  },
  {
   "cell_type": "code",
   "execution_count": 39,
   "id": "52736af2",
   "metadata": {},
   "outputs": [
    {
     "name": "stdout",
     "output_type": "stream",
     "text": [
      "Solução usando linalg.solve antes de alterar a matriz:  [ 1.61904762 -0.42857143 -1.23809524  1.38095238]\n",
      "Solução:  [ 1.61904762 -0.42857143 -1.23809524  1.38095238]\n"
     ]
    }
   ],
   "source": [
    "B = array([[0, 1, 4, 1],\n",
    "           [3, 4, -1, -1],   \n",
    "           [1, -4, 1, 5],\n",
    "           [2, -2, 1, 3]],float)\n",
    "\n",
    "\n",
    "v2 = array([-4,3,9,7],float)\n",
    "N = len(v)\n",
    "\n",
    "y = zeros(N)\n",
    "\n",
    "a=0\n",
    "b=0\n",
    "\n",
    "vet2 = zeros(N)\n",
    "\n",
    "sol = linalg.solve(B,v2)\n",
    "print(\"Solução usando linalg.solve antes de alterar a matriz: \",sol)\n",
    "\n",
    "for i in range(N):\n",
    "    for k in range(i+1,N):\n",
    "        if abs(B[k,i]) > abs(B[i,i]):\n",
    "            vet2 = copy(B[k,:])\n",
    "            B[k,:]=B[i,:]\n",
    "            B[i,:]=vet2\n",
    "            b = v2[i]\n",
    "            v2[i]=v2[k]\n",
    "            v2[k]=b\n",
    "    v2[i] = v2[i]/B[i,i]\n",
    "    B[i,:] = B[i,:]/B[i,i]\n",
    "    for j in range(i+1,N):\n",
    "        mult2 = -(B[j,i])\n",
    "        B[j,:] = B[j,:] + mult2*B[i,:]\n",
    "        v2[j] = v2[j] + mult2*v2[i]\n",
    "\n",
    "for i in range(N-1,-1,-1):\n",
    "    y[i] = v2[i]\n",
    "    for j in range(i+1,N):\n",
    "        y[i] -= B[i,j]*y[j] \n",
    "\n",
    "\n",
    "\n",
    "print(\"Solução: \",y)"
   ]
  },
  {
   "cell_type": "markdown",
   "id": "fd637060",
   "metadata": {},
   "source": [
    "#### Problema 3: Decomposição LU"
   ]
  },
  {
   "cell_type": "code",
   "execution_count": 41,
   "id": "a74d34ed",
   "metadata": {},
   "outputs": [],
   "source": [
    "### a)\n",
    "def lu(N, A):\n",
    "    l = zeros([N,N])\n",
    "    u = zeros([N,N])\n",
    "    \n",
    "    for i in range(N):\n",
    "        for k in range(i,N):\n",
    "            l[k,i]=A[k,i]\n",
    "        \n",
    "        v[i] = v[i]/A[i,i]\n",
    "        A[i,:] = A[i,:]/A[i,i]\n",
    "        \n",
    "        for j in range(i+1,N):\n",
    "            mult = -(A[j,i])\n",
    "            A[j,:] = A[j,:] + mult*A[i,:]\n",
    "            v[j] = v[j] + mult*v[i]\n",
    "    u=A\n",
    "    return l,u"
   ]
  },
  {
   "cell_type": "code",
   "execution_count": 46,
   "id": "482570e1",
   "metadata": {},
   "outputs": [
    {
     "name": "stdout",
     "output_type": "stream",
     "text": [
      "L:\n",
      " [[  2.    0.    0.    0. ]\n",
      " [  3.    2.5   0.    0. ]\n",
      " [  1.   -4.5 -13.6   0. ]\n",
      " [  2.   -3.  -11.4  -1. ]] \n",
      " U:\n",
      " [[ 1.   0.5  2.   0.5]\n",
      " [ 0.   1.  -2.8 -1. ]\n",
      " [-0.  -0.   1.  -0. ]\n",
      " [-0.  -0.  -0.   1. ]] \n",
      " L*U = A: \n",
      " [[ 2.  1.  4.  1.]\n",
      " [ 3.  4. -1. -1.]\n",
      " [ 1. -4.  1.  5.]\n",
      " [ 2. -2.  1.  3.]]\n"
     ]
    }
   ],
   "source": [
    "A = array([[2,1,4,1],\n",
    "           [3,4,-1,-1],\n",
    "           [1,-4,1,5],\n",
    "           [2,-2,1,3]],float)\n",
    "\n",
    "v = array([-4,3,9,7],float)\n",
    "N = len(v)\n",
    "\n",
    "\n",
    "L,U=lu(N,A)\n",
    "A = dot(L,U)\n",
    "print(\"L:\\n\", L,\"\\n U:\\n\", U, \"\\n L*U = A: \\n\", A)"
   ]
  },
  {
   "cell_type": "code",
   "execution_count": 60,
   "id": "40f6d356",
   "metadata": {},
   "outputs": [
    {
     "name": "stdout",
     "output_type": "stream",
     "text": [
      "Usando o Newman -> y = [-2.   3.6 -2.   1. ] \n",
      "x = [ 2. -1. -2.  1.]\n",
      "Usando solve -> x = [ 2. -1. -2.  1.]\n"
     ]
    }
   ],
   "source": [
    "### b) \n",
    "\n",
    "A = array([[2,1,4,1],\n",
    "           [3,4,-1,-1],\n",
    "           [1,-4,1,5],\n",
    "           [2,-2,1,3]],float)\n",
    "\n",
    "v = array([-4,3,9,7],float)\n",
    "\n",
    "N = len(v)\n",
    "x=zeros(N)\n",
    "y = zeros(N)\n",
    "\n",
    "z=linalg.solve(A,v)\n",
    "\n",
    "\n",
    "L,U=lu(N,A)\n",
    "\n",
    "for i in range(N-1,-1,-1):\n",
    "    y[i] = v[i]\n",
    "    for j in range(i+1,N):\n",
    "        y[i] -= L[i,j]*y[j] \n",
    "\n",
    "        \n",
    "for i in range(N-1,-1,-1):\n",
    "    x[i] = y[i]\n",
    "    for j in range(i+1,N):\n",
    "        x[i] -= U[i,j]*x[j] \n",
    "\n",
    "print(\"Usando o Newman -> y =\",y, \"\\nx =\", x)\n",
    "print(\"Usando solve -> x =\",z)"
   ]
  },
  {
   "cell_type": "markdown",
   "id": "d6f0324b",
   "metadata": {},
   "source": [
    "#### Problema 4: Uma cadeia de resistores"
   ]
  },
  {
   "cell_type": "code",
   "execution_count": 50,
   "id": "e9301907",
   "metadata": {},
   "outputs": [],
   "source": [
    "### a) Opicional"
   ]
  },
  {
   "cell_type": "code",
   "execution_count": 56,
   "id": "2ae74687",
   "metadata": {},
   "outputs": [
    {
     "name": "stdout",
     "output_type": "stream",
     "text": [
      "A = \n",
      " [[ 3. -1. -1.  0.  0.  0.]\n",
      " [-1.  4. -1. -1.  0.  0.]\n",
      " [-1. -1.  4. -1. -1.  0.]\n",
      " [ 0. -1. -1.  4. -1. -1.]\n",
      " [ 0.  0. -1. -1.  4. -1.]\n",
      " [ 0.  0.  0. -1. -1.  3.]] \n",
      "\n",
      "x =  [3.7254902  3.43137255 2.74509804 2.25490196 1.56862745 1.2745098 ]\n"
     ]
    }
   ],
   "source": [
    "### b) \n",
    "V = 5\n",
    "N = 6\n",
    "A = eye(N)\n",
    "w = array([V,V,0,0,0,0], float)\n",
    "\n",
    "A[0][0] = 3\n",
    "A[N-1][N-1] = 3\n",
    "A[0][1] = -1\n",
    "A[N-1][N-2] = -1\n",
    "\n",
    "for l in range(N):\n",
    "    if(l>0 and l<(N-1)):\n",
    "        A[l][l] = 4\n",
    "        A[l][l+1] = -1\n",
    "        A[l][l-1] = -1\n",
    "    if(l>=0 and l<=N-3):\n",
    "        A[l][l+2] = -1\n",
    "    if(l>=2):\n",
    "        A[l][l-2] = -1\n",
    "    \n",
    "print(\"A: \\n\", A, \"\\n\")    \n",
    "    \n",
    "for l in range(N):\n",
    "    w[l] /= A[l][l]\n",
    "    A[l][:] /= A[l][l]\n",
    "    \n",
    "    for k in range(l+1, N):\n",
    "        mult = -A[k][l]\n",
    "        A[k][:] += mult*A[l][:]\n",
    "        w[k] += mult*w[l]\n",
    "\n",
    "\n",
    "x= zeros(N)\n",
    "\n",
    "\n",
    "for l in range(N-1,-1,-1):\n",
    "    x[l] = w[l]\n",
    "    for k in range(l+1,N):\n",
    "        x[l] -= A[l][k]*x[k]\n",
    "        \n",
    "\n",
    "print(\"Voltagens:\", x)"
   ]
  },
  {
   "cell_type": "code",
   "execution_count": 59,
   "id": "0c455ba4",
   "metadata": {},
   "outputs": [
    {
     "name": "stdout",
     "output_type": "stream",
     "text": [
      "A: \n",
      " [[-1. -1. -1. ... -1. -1. -1.]\n",
      " [-1. -1. -1. ... -1. -1. -1.]\n",
      " [ 3.  4.  4. ...  4.  4.  3.]\n",
      " [-1. -1. -1. ... -1. -1. -1.]\n",
      " [-1. -1. -1. ... -1. -1. -1.]]\n",
      "Voltagens:  [4.99888228e+00 4.99861842e+00 4.99802841e+00 ... 1.97158611e-03\n",
      " 1.38158071e-03 1.11772227e-03]\n"
     ]
    }
   ],
   "source": [
    "### c)\n",
    "N = 10000\n",
    "A = zeros([5,N], float)\n",
    "\n",
    "for i in range(N):\n",
    "    A[0,i]=-1\n",
    "    A[1,i]=-1\n",
    "    A[2,i]=4\n",
    "    A[3,i]=-1\n",
    "    A[4,i]=-1\n",
    "\n",
    "\n",
    "A[2,0]=3\n",
    "A[2,N-1]=3\n",
    "v=zeros(N, float)\n",
    "\n",
    "v[0],v[1]=5,5\n",
    "\n",
    "x = banded(A,v,2,2)\n",
    "\n",
    "print(\"A: \\n\",A)\n",
    "print(\"Voltagens: \", x)\n",
    "\n"
   ]
  }
 ],
 "metadata": {
  "kernelspec": {
   "display_name": "Python 3 (ipykernel)",
   "language": "python",
   "name": "python3"
  },
  "language_info": {
   "codemirror_mode": {
    "name": "ipython",
    "version": 3
   },
   "file_extension": ".py",
   "mimetype": "text/x-python",
   "name": "python",
   "nbconvert_exporter": "python",
   "pygments_lexer": "ipython3",
   "version": "3.11.8"
  }
 },
 "nbformat": 4,
 "nbformat_minor": 5
}
